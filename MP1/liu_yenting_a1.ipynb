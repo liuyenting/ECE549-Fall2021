{
 "cells": [
  {
   "cell_type": "markdown",
   "source": [
    "# Common imports"
   ],
   "metadata": {}
  },
  {
   "cell_type": "code",
   "execution_count": 1,
   "source": [
    "%matplotlib inline\n",
    "import os\n",
    "import sys\n",
    "import glob\n",
    "import re\n",
    "import numpy as np\n",
    "import matplotlib\n",
    "import matplotlib.pyplot as plt\n",
    "from mpl_toolkits.mplot3d import Axes3D\n",
    "from PIL import Image"
   ],
   "outputs": [],
   "metadata": {}
  },
  {
   "cell_type": "markdown",
   "source": [
    "# Provided functions\n",
    "### Image loading and saving"
   ],
   "metadata": {}
  },
  {
   "cell_type": "code",
   "execution_count": 3,
   "source": [
    "def LoadFaceImages(pathname, subject_name, num_images):\n",
    "    \"\"\"\n",
    "    Load the set of face images.  \n",
    "    The routine returns\n",
    "        ambimage: image illuminated under the ambient lighting\n",
    "        imarray: a 3-D array of images, h x w x Nimages\n",
    "        lightdirs: Nimages x 3 array of light source directions\n",
    "    \"\"\"\n",
    "\n",
    "    def load_image(fname):\n",
    "        return np.asarray(Image.open(fname))\n",
    "\n",
    "    def fname_to_ang(fname):\n",
    "        yale_name = os.path.basename(fname)\n",
    "        return int(yale_name[12:16]), int(yale_name[17:20])\n",
    "\n",
    "    def sph2cart(az, el, r):\n",
    "        rcos_theta = r * np.cos(el)\n",
    "        x = rcos_theta * np.cos(az)\n",
    "        y = rcos_theta * np.sin(az)\n",
    "        z = r * np.sin(el)\n",
    "        return x, y, z\n",
    "\n",
    "    ambimage = load_image(\n",
    "        os.path.join(pathname, subject_name + '_P00_Ambient.pgm'))\n",
    "    im_list = glob.glob(os.path.join(pathname, subject_name + '_P00A*.pgm'))\n",
    "    if num_images <= len(im_list):\n",
    "        im_sub_list = np.random.choice(im_list, num_images, replace=False)\n",
    "    else:\n",
    "        print(\n",
    "            'Total available images is less than specified.\\nProceeding with %d images.\\n'\n",
    "            % len(im_list))\n",
    "        im_sub_list = im_list\n",
    "    im_sub_list.sort()\n",
    "    imarray = np.stack([load_image(fname) for fname in im_sub_list], axis=-1)\n",
    "    Ang = np.array([fname_to_ang(fname) for fname in im_sub_list])\n",
    "\n",
    "    x, y, z = sph2cart(Ang[:, 0] / 180.0 * np.pi, Ang[:, 1] / 180.0 * np.pi, 1)\n",
    "    lightdirs = np.stack([y, z, x], axis=-1)\n",
    "    return ambimage, imarray, lightdirs"
   ],
   "outputs": [],
   "metadata": {}
  },
  {
   "cell_type": "code",
   "execution_count": 4,
   "source": [
    "def save_outputs(subject_name, albedo_image, surface_normals):\n",
    "    im = Image.fromarray((albedo_image*255).astype(np.uint8))\n",
    "    im.save(\"%s_albedo.jpg\" % subject_name)\n",
    "    im = Image.fromarray((surface_normals[:,:,0]*128+128).astype(np.uint8))\n",
    "    im.save(\"%s_normals_x.jpg\" % subject_name)\n",
    "    im = Image.fromarray((surface_normals[:,:,1]*128+128).astype(np.uint8))\n",
    "    im.save(\"%s_normals_y.jpg\" % subject_name)\n",
    "    im = Image.fromarray((surface_normals[:,:,2]*128+128).astype(np.uint8))\n",
    "    im.save(\"%s_normals_z.jpg\" % subject_name)"
   ],
   "outputs": [],
   "metadata": {}
  },
  {
   "cell_type": "markdown",
   "source": [
    "### Plot the height map"
   ],
   "metadata": {}
  },
  {
   "cell_type": "code",
   "execution_count": 5,
   "source": [
    "def set_aspect_equal_3d(ax):\n",
    "    \"\"\"https://stackoverflow.com/questions/13685386\"\"\"\n",
    "    \"\"\"Fix equal aspect bug for 3D plots.\"\"\"\n",
    "    xlim = ax.get_xlim3d()\n",
    "    ylim = ax.get_ylim3d()\n",
    "    zlim = ax.get_zlim3d()\n",
    "    from numpy import mean\n",
    "    xmean = mean(xlim)\n",
    "    ymean = mean(ylim)\n",
    "    zmean = mean(zlim)\n",
    "    plot_radius = max([\n",
    "        abs(lim - mean_)\n",
    "        for lims, mean_ in ((xlim, xmean), (ylim, ymean), (zlim, zmean))\n",
    "        for lim in lims\n",
    "    ])\n",
    "    ax.set_xlim3d([xmean - plot_radius, xmean + plot_radius])\n",
    "    ax.set_ylim3d([ymean - plot_radius, ymean + plot_radius])\n",
    "    ax.set_zlim3d([zmean - plot_radius, zmean + plot_radius])\n",
    "\n",
    "\n",
    "def display_output(albedo_image, height_map):\n",
    "    fig = plt.figure()\n",
    "    plt.imshow(albedo_image, cmap='gray')\n",
    "    plt.axis('off')\n",
    "    \n",
    "    fig = plt.figure(figsize=(10, 10))\n",
    "    ax = fig.gca(projection='3d')\n",
    "    ax.view_init(20, 20)\n",
    "    X = np.arange(albedo_image.shape[0])\n",
    "    Y = np.arange(albedo_image.shape[1])\n",
    "    X, Y = np.meshgrid(Y, X)\n",
    "    H = np.flipud(np.fliplr(height_map))\n",
    "    A = np.flipud(np.fliplr(albedo_image))\n",
    "    A = np.stack([A, A, A], axis=-1)\n",
    "    ax.xaxis.set_ticks([])\n",
    "    ax.xaxis.set_label_text('Z')\n",
    "    ax.yaxis.set_ticks([])\n",
    "    ax.yaxis.set_label_text('X')\n",
    "    ax.zaxis.set_ticks([])\n",
    "    ax.yaxis.set_label_text('Y')\n",
    "    surf = ax.plot_surface(\n",
    "        H, X, Y, cmap='gray', facecolors=A, linewidth=0, antialiased=False)\n",
    "    set_aspect_equal_3d(ax)"
   ],
   "outputs": [],
   "metadata": {}
  },
  {
   "cell_type": "markdown",
   "source": [
    "### Plot the surface norms. "
   ],
   "metadata": {}
  },
  {
   "cell_type": "code",
   "execution_count": 6,
   "source": [
    "def plot_surface_normals(surface_normals):\n",
    "    \"\"\"\n",
    "    surface_normals: h x w x 3 matrix.\n",
    "    \"\"\"\n",
    "    fig = plt.figure()\n",
    "    ax = plt.subplot(1, 3, 1)\n",
    "    ax.axis('off')\n",
    "    ax.set_title('X')\n",
    "    im = ax.imshow(surface_normals[:,:,0])\n",
    "    ax = plt.subplot(1, 3, 2)\n",
    "    ax.axis('off')\n",
    "    ax.set_title('Y')\n",
    "    im = ax.imshow(surface_normals[:,:,1])\n",
    "    ax = plt.subplot(1, 3, 3)\n",
    "    ax.axis('off')\n",
    "    ax.set_title('Z')\n",
    "    im = ax.imshow(surface_normals[:,:,2])"
   ],
   "outputs": [],
   "metadata": {}
  },
  {
   "cell_type": "markdown",
   "source": [
    "# Your implementation"
   ],
   "metadata": {}
  },
  {
   "cell_type": "code",
   "execution_count": 39,
   "source": [
    "def preprocess(ambimage, imarray):\n",
    "    \"\"\"\n",
    "    preprocess the data: \n",
    "        1. subtract ambient_image from each image in imarray.\n",
    "        2. make sure no pixel is less than zero.\n",
    "        3. rescale values in imarray to be between 0 and 1.\n",
    "    Inputs:\n",
    "        ambimage: h x w\n",
    "        imarray: h x w x Nimages\n",
    "    Outputs:\n",
    "        processed_imarray: h x w x Nimages\n",
    "    \"\"\"\n",
    "    processed_imarray = imarray.astype(float)\n",
    "    # NOTE\n",
    "    #   n_images axis should be the slow axis (0) for better performance\n",
    "    processed_imarray -= ambimage[..., np.newaxis]\n",
    "\n",
    "    # 0-clipping, normalize to [0, 1]\n",
    "    processed_imarray = np.clip(processed_imarray, 0, None)\n",
    "    processed_imarray /= np.max(processed_imarray)\n",
    "\n",
    "    return processed_imarray"
   ],
   "outputs": [],
   "metadata": {}
  },
  {
   "cell_type": "code",
   "execution_count": 40,
   "source": [
    "def photometric_stereo(imarray, light_dirs):\n",
    "    \"\"\"\n",
    "    Inputs:\n",
    "        imarray:  h x w x Nimages\n",
    "        light_dirs: Nimages x 3\n",
    "    Outputs:\n",
    "        albedo_image: h x w\n",
    "        surface_norms: h x w x 3\n",
    "    \"\"\"\n",
    "    albedo_image = None\n",
    "    surface_normals = None\n",
    "\n",
    "    print(light_dirs)\n",
    "    \n",
    "    return albedo_image, surface_normals"
   ],
   "outputs": [],
   "metadata": {}
  },
  {
   "cell_type": "code",
   "execution_count": 41,
   "source": [
    "def get_surface(surface_normals, integration_method):\n",
    "    \"\"\"\n",
    "    Inputs:\n",
    "        surface_normals:h x w x 3\n",
    "        integration_method: string in ['average', 'column', 'row', 'random']\n",
    "    Outputs:\n",
    "        height_map: h x w\n",
    "    \"\"\"\n",
    "    height_map = None\n",
    "    return height_map"
   ],
   "outputs": [],
   "metadata": {}
  },
  {
   "cell_type": "markdown",
   "source": [
    "# Main function"
   ],
   "metadata": {}
  },
  {
   "cell_type": "code",
   "execution_count": null,
   "source": [
    "class StopExecution(Exception):\n",
    "    \"\"\"Stop current and subsequent cells quietly.\"\"\"\n",
    "    def _render_traceback_(self):\n",
    "        pass"
   ],
   "outputs": [],
   "metadata": {}
  },
  {
   "cell_type": "code",
   "execution_count": 42,
   "source": [
    "root_path = 'croppedyale/'\n",
    "subject_name = 'yaleB05'\n",
    "integration_method = 'average'\n",
    "save_flag = False\n",
    "\n",
    "full_path = '%s%s' % (root_path, subject_name)\n",
    "ambient_image, imarray, light_dirs = LoadFaceImages(full_path, subject_name,\n",
    "                                                    64)\n",
    "\n",
    "processed_imarray = preprocess(ambient_image, imarray)\n",
    "\n",
    "albedo_image, surface_normals = photometric_stereo(processed_imarray,\n",
    "                                                   light_dirs)\n",
    "\n",
    "raise StopExecution\n",
    "\n",
    "height_map = get_surface(surface_normals, 'average')\n",
    "\n",
    "if save_flag:\n",
    "    save_outputs(subject_name, albedo_image, surface_normals)"
   ],
   "outputs": [
    {
     "output_type": "stream",
     "name": "stdout",
     "text": [
      "[[ 0.00000000e+00  0.00000000e+00  1.00000000e+00]\n",
      " [ 0.00000000e+00  3.42020143e-01  9.39692621e-01]\n",
      " [ 0.00000000e+00  7.07106781e-01  7.07106781e-01]\n",
      " [ 0.00000000e+00  1.00000000e+00  6.12323400e-17]\n",
      " [ 0.00000000e+00 -3.42020143e-01  9.39692621e-01]\n",
      " [ 0.00000000e+00 -5.73576436e-01  8.19152044e-01]\n",
      " [ 8.58316512e-02  1.73648178e-01  9.81060262e-01]\n",
      " [ 8.58316512e-02 -1.73648178e-01  9.81060262e-01]\n",
      " [ 1.73648178e-01  0.00000000e+00  9.84807753e-01]\n",
      " [ 1.63175911e-01 -3.42020143e-01  9.25416578e-01]\n",
      " [ 2.43210347e-01  3.42020143e-01  9.07673371e-01]\n",
      " [ 3.36824089e-01  1.73648178e-01  9.25416578e-01]\n",
      " [ 3.36824089e-01 -1.73648178e-01  9.25416578e-01]\n",
      " [ 2.62002630e-01 -6.42787610e-01  7.19846310e-01]\n",
      " [ 4.22618262e-01  0.00000000e+00  9.06307787e-01]\n",
      " [ 5.54032293e-01  2.58819045e-01  7.91240115e-01]\n",
      " [ 4.39385042e-01  6.42787610e-01  6.27506872e-01]\n",
      " [ 2.42403877e-01  9.06307787e-01  3.46188613e-01]\n",
      " [ 5.38985545e-01 -3.42020143e-01  7.69751131e-01]\n",
      " [ 7.66044443e-01  0.00000000e+00  6.42787610e-01]\n",
      " [ 5.86824089e-01 -6.42787610e-01  4.92403877e-01]\n",
      " [ 8.13797681e-01  3.42020143e-01  4.69846310e-01]\n",
      " [ 8.13797681e-01 -3.42020143e-01  4.69846310e-01]\n",
      " [ 9.39692621e-01  0.00000000e+00  3.42020143e-01]\n",
      " [ 6.64463024e-01  7.07106781e-01  2.41844763e-01]\n",
      " [ 7.69751131e-01 -5.73576436e-01  2.80166500e-01]\n",
      " [ 9.36116807e-01  3.42020143e-01  8.18996083e-02]\n",
      " [ 9.36116807e-01 -3.42020143e-01  8.18996083e-02]\n",
      " [ 9.96194698e-01  0.00000000e+00 -8.71557427e-02]\n",
      " [ 9.07673371e-01  2.58819045e-01 -3.30366090e-01]\n",
      " [ 7.19846310e-01  6.42787610e-01 -2.62002630e-01]\n",
      " [ 3.97131262e-01  9.06307787e-01 -1.44543958e-01]\n",
      " [ 8.83022222e-01 -3.42020143e-01 -3.21393805e-01]\n",
      " [ 8.66025404e-01  0.00000000e+00 -5.00000000e-01]\n",
      " [ 7.19846310e-01  3.42020143e-01 -6.04022774e-01]\n",
      " [-8.58316512e-02  1.73648178e-01  9.81060262e-01]\n",
      " [-8.58316512e-02 -1.73648178e-01  9.81060262e-01]\n",
      " [-1.73648178e-01  0.00000000e+00  9.84807753e-01]\n",
      " [-1.63175911e-01 -3.42020143e-01  9.25416578e-01]\n",
      " [-2.43210347e-01  3.42020143e-01  9.07673371e-01]\n",
      " [-3.36824089e-01  1.73648178e-01  9.25416578e-01]\n",
      " [-3.36824089e-01 -1.73648178e-01  9.25416578e-01]\n",
      " [-2.62002630e-01 -6.42787610e-01  7.19846310e-01]\n",
      " [-4.22618262e-01  0.00000000e+00  9.06307787e-01]\n",
      " [-5.54032293e-01  2.58819045e-01  7.91240115e-01]\n",
      " [-4.39385042e-01  6.42787610e-01  6.27506872e-01]\n",
      " [-2.42403877e-01  9.06307787e-01  3.46188613e-01]\n",
      " [-5.38985545e-01 -3.42020143e-01  7.69751131e-01]\n",
      " [-7.66044443e-01  0.00000000e+00  6.42787610e-01]\n",
      " [-5.86824089e-01 -6.42787610e-01  4.92403877e-01]\n",
      " [-8.13797681e-01  3.42020143e-01  4.69846310e-01]\n",
      " [-8.13797681e-01 -3.42020143e-01  4.69846310e-01]\n",
      " [-9.39692621e-01  0.00000000e+00  3.42020143e-01]\n",
      " [-6.64463024e-01  7.07106781e-01  2.41844763e-01]\n",
      " [-7.69751131e-01 -5.73576436e-01  2.80166500e-01]\n",
      " [-9.36116807e-01  3.42020143e-01  8.18996083e-02]\n",
      " [-9.36116807e-01 -3.42020143e-01  8.18996083e-02]\n",
      " [-9.96194698e-01  0.00000000e+00 -8.71557427e-02]\n",
      " [-9.07673371e-01  2.58819045e-01 -3.30366090e-01]\n",
      " [-7.19846310e-01  6.42787610e-01 -2.62002630e-01]\n",
      " [-3.97131262e-01  9.06307787e-01 -1.44543958e-01]\n",
      " [-8.83022222e-01 -3.42020143e-01 -3.21393805e-01]\n",
      " [-8.66025404e-01  0.00000000e+00 -5.00000000e-01]\n",
      " [-7.19846310e-01  3.42020143e-01 -6.04022774e-01]]\n"
     ]
    },
    {
     "output_type": "error",
     "ename": "NameError",
     "evalue": "name 'StopExecution' is not defined",
     "traceback": [
      "\u001b[0;31m---------------------------------------------------------------------------\u001b[0m",
      "\u001b[0;31mNameError\u001b[0m                                 Traceback (most recent call last)",
      "\u001b[0;32m<ipython-input-42-e35ef4f192b4>\u001b[0m in \u001b[0;36m<module>\u001b[0;34m\u001b[0m\n\u001b[1;32m     13\u001b[0m                                                    light_dirs)\n\u001b[1;32m     14\u001b[0m \u001b[0;34m\u001b[0m\u001b[0m\n\u001b[0;32m---> 15\u001b[0;31m \u001b[0;32mraise\u001b[0m \u001b[0mStopExecution\u001b[0m\u001b[0;34m\u001b[0m\u001b[0;34m\u001b[0m\u001b[0m\n\u001b[0m\u001b[1;32m     16\u001b[0m \u001b[0;34m\u001b[0m\u001b[0m\n\u001b[1;32m     17\u001b[0m \u001b[0mheight_map\u001b[0m \u001b[0;34m=\u001b[0m \u001b[0mget_surface\u001b[0m\u001b[0;34m(\u001b[0m\u001b[0msurface_normals\u001b[0m\u001b[0;34m,\u001b[0m \u001b[0;34m'average'\u001b[0m\u001b[0;34m)\u001b[0m\u001b[0;34m\u001b[0m\u001b[0;34m\u001b[0m\u001b[0m\n",
      "\u001b[0;31mNameError\u001b[0m: name 'StopExecution' is not defined"
     ]
    }
   ],
   "metadata": {}
  },
  {
   "cell_type": "code",
   "execution_count": null,
   "source": [
    "plot_surface_normals(surface_normals)"
   ],
   "outputs": [],
   "metadata": {}
  },
  {
   "cell_type": "code",
   "execution_count": null,
   "source": [
    "display_output(albedo_image, height_map)"
   ],
   "outputs": [],
   "metadata": {}
  }
 ],
 "metadata": {
  "kernelspec": {
   "name": "python3",
   "display_name": "Python 3.7.11 64-bit ('ece549-mp': conda)"
  },
  "language_info": {
   "name": "python",
   "version": "3.7.11",
   "mimetype": "text/x-python",
   "codemirror_mode": {
    "name": "ipython",
    "version": 3
   },
   "pygments_lexer": "ipython3",
   "nbconvert_exporter": "python",
   "file_extension": ".py"
  },
  "interpreter": {
   "hash": "844e5693728655e369360ce30049d6ba44037afc6dfde8a7af805a7beef64ebe"
  }
 },
 "nbformat": 4,
 "nbformat_minor": 2
}