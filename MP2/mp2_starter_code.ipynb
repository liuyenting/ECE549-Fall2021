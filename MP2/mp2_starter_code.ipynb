{
  "nbformat": 4,
  "nbformat_minor": 2,
  "metadata": {
    "colab": {
      "name": "CS 543 A2 Starter.ipynb",
      "provenance": []
    },
    "kernelspec": {
      "name": "python3",
      "display_name": "Python 3"
    },
    "language_info": {
      "name": "python"
    }
  },
  "cells": [
    {
      "cell_type": "markdown",
      "source": [
        "# Assignment 2: Hybrid Images and Scale-space blob detection"
      ],
      "metadata": {
        "id": "t_o-rcRkoEMH"
      }
    },
    {
      "cell_type": "code",
      "execution_count": 1,
      "source": [
        "# Libraries you will find useful\n",
        "import numpy as np\n",
        "import scipy \n",
        "import skimage\n",
        "import matplotlib.pyplot as plt"
      ],
      "outputs": [],
      "metadata": {
        "id": "fSWHUBLQnlvQ"
      }
    },
    {
      "cell_type": "markdown",
      "source": [
        "## Part 1: Hybrid Images"
      ],
      "metadata": {
        "id": "VhXj9AUIoItL"
      }
    },
    {
      "cell_type": "code",
      "execution_count": 13,
      "source": [
        "# Crop and align the images such that the objects and their edges are aligned. \n",
        "# You are free to use any image editing tool for this and there is no need for code for this step.\n",
        "\n",
        "# Load cropped and aligned images"
      ],
      "outputs": [],
      "metadata": {
        "id": "_ZErgRr8oLeq"
      }
    },
    {
      "cell_type": "code",
      "execution_count": 12,
      "source": [
        "# Read aligned input images and convert them to grayscale "
      ],
      "outputs": [],
      "metadata": {
        "id": "alM-Dl7ooZJL"
      }
    },
    {
      "cell_type": "code",
      "execution_count": 11,
      "source": [
        "# Apply a low-pass filter, i.e., a standard 2D Gaussian filter, on the first (smooth) image. \n",
        "from scipy.ndimage import gaussian_filter"
      ],
      "outputs": [],
      "metadata": {
        "id": "Vkn2LgEAoilB"
      }
    },
    {
      "cell_type": "code",
      "execution_count": null,
      "source": [
        "# Apply a high-pass filter on the second image. \n",
        "# The paper suggests using an impulse (identity) filter minus a Gaussian filter for this operation."
      ],
      "outputs": [],
      "metadata": {
        "id": "0Fo8u8IPokFj"
      }
    },
    {
      "cell_type": "code",
      "execution_count": null,
      "source": [
        "# Use your intuition and trial and error to determine good values of σ for the high-pass and low-pass filters\n",
        "# One of the σ's should always be higher than the other (which one?), but the optimal values can vary from image to image."
      ],
      "outputs": [],
      "metadata": {
        "id": "Itt7D1Aqomgk"
      }
    },
    {
      "cell_type": "code",
      "execution_count": null,
      "source": [
        "# Add or average the tranformed images to create the hybrid image."
      ],
      "outputs": [],
      "metadata": {
        "id": "hVlGAf4too0c"
      }
    },
    {
      "cell_type": "markdown",
      "source": [
        "## Part 2: Scale-space blob detection"
      ],
      "metadata": {
        "id": "Wzj2ryg3oMJp"
      }
    },
    {
      "cell_type": "code",
      "execution_count": null,
      "source": [
        "# convert images to grayscale\n",
        "# rescale the intensities to between 0 and 1 (simply divide them by 255 should do the trick)"
      ],
      "outputs": [],
      "metadata": {
        "id": "rzSBSBH4oLl5"
      }
    },
    {
      "cell_type": "code",
      "execution_count": 10,
      "source": [
        "# Creating the Laplacian filter\n",
        "# Pay careful attention to setting the right filter mask size. Hint: Should the filter width be odd or even?\n",
        "from scipy.ndimage.filters import gaussian_laplace"
      ],
      "outputs": [],
      "metadata": {
        "id": "nsZWS0gmpDtq"
      }
    },
    {
      "cell_type": "code",
      "execution_count": 7,
      "source": [
        "# filtering the image (two implmementations)\n",
        "# one that increases filter size, and one that downsamples the image\n",
        "# For timing, use time.time()"
      ],
      "outputs": [],
      "metadata": {
        "id": "wrN1a-GUn4xP"
      }
    },
    {
      "cell_type": "code",
      "execution_count": null,
      "source": [
        "# nonmaximum suppression in scale space\n",
        "# you may find functions scipy.ndimage.filters.rank_filter or scipy.ndimage.filters.generic_filter useful"
      ],
      "outputs": [],
      "metadata": {
        "id": "nO5NyhVPpdwH"
      }
    },
    {
      "cell_type": "code",
      "execution_count": null,
      "source": [
        "# To display the detected regions as circle\n",
        "from matplotlib.patches import Circle\n",
        "def show_all_circles(image, cx, cy, rad, color='r'):\n",
        "    \"\"\"\n",
        "    image: numpy array, representing the grayscsale image\n",
        "    cx, cy: numpy arrays or lists, centers of the detected blobs\n",
        "    rad: numpy array or list, radius of the detected blobs\n",
        "    \"\"\"\n",
        "    fig, ax = plt.subplots()\n",
        "    ax.set_aspect('equal')\n",
        "    ax.imshow(image, cmap='gray')\n",
        "    for x, y, r in zip(cx, cy, rad):\n",
        "        circ = Circle((x, y), r, color=color, fill=False)\n",
        "        ax.add_patch(circ)\n",
        "\n",
        "    plt.title('%i circles' % len(cx))\n",
        "    plt.show()"
      ],
      "outputs": [],
      "metadata": {}
    },
    {
      "cell_type": "code",
      "execution_count": null,
      "source": [],
      "outputs": [],
      "metadata": {}
    }
  ]
}