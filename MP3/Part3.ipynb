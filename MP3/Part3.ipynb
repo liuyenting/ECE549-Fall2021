{
 "cells": [
  {
   "cell_type": "markdown",
   "metadata": {},
   "source": [
    "# Part 3: Single-View Geometry\n",
    "\n",
    "## Usage\n",
    "This code snippet provides an overall code structure and some interactive plot interfaces for the *Single-View Geometry* section of Assignment 3. In [main function](#Main-function), we outline the required functionalities step by step. Some of the functions which involves interactive plots are already provided, but [the rest](#Your-implementation) are left for you to implement.\n",
    "\n",
    "## Package installation\n",
    "- In this code, we use `tkinter` package. Installation instruction can be found [here](https://anaconda.org/anaconda/tk)."
   ]
  },
  {
   "cell_type": "markdown",
   "metadata": {},
   "source": [
    "# Common imports"
   ]
  },
  {
   "cell_type": "code",
   "execution_count": 36,
   "metadata": {},
   "outputs": [],
   "source": [
    "import numpy as np\n",
    "\n",
    "%matplotlib tk\n",
    "import matplotlib.pyplot as plt\n",
    "\n",
    "from pathlib import Path\n",
    "\n",
    "data_dir = Path('part3')"
   ]
  },
  {
   "cell_type": "markdown",
   "metadata": {},
   "source": [
    "# Provided functions"
   ]
  },
  {
   "cell_type": "code",
   "execution_count": 6,
   "metadata": {},
   "outputs": [],
   "source": [
    "def get_input_lines(im, min_lines=3):\n",
    "    \"\"\"\n",
    "    Allows user to input line segments; computes centers and directions.\n",
    "    Inputs:\n",
    "        im: np.ndarray of shape (height, width, 3)\n",
    "        min_lines: minimum number of lines required\n",
    "    Returns:\n",
    "        n: number of lines from input\n",
    "        lines: np.ndarray of shape (3, n)\n",
    "            where each column denotes the parameters of the line equation\n",
    "        centers: np.ndarray of shape (3, n)\n",
    "            where each column denotes the homogeneous coordinates of the centers\n",
    "    \"\"\"\n",
    "    n = 0\n",
    "    lines = []\n",
    "    points = []\n",
    "\n",
    "    h = plt.figure()\n",
    "    plt.imshow(im)\n",
    "    plt.show()\n",
    "\n",
    "    print(\"Set at least %d lines to compute vanishing point\" % min_lines)\n",
    "    print(\"Click two endpoints, right key to undo, middle key to stop\")\n",
    "    while True:\n",
    "        clicked = plt.ginput(2, timeout=0, show_clicks=True)\n",
    "        if not clicked or len(clicked) < 2:\n",
    "            if n < min_lines:\n",
    "                print(\"Need at least %d lines, you have %d now\" % (min_lines, n))\n",
    "                continue\n",
    "            else:\n",
    "                # stop getting lines if number of lines is enough\n",
    "                break\n",
    "\n",
    "        # unpack user inputs and save endpoints as a tuple\n",
    "        p1 = np.array([clicked[0][0], clicked[0][1], 1])\n",
    "        p2 = np.array([clicked[1][0], clicked[1][1], 1])\n",
    "        points.append(np.hstack([p1[:-1], p2[:-1]]))\n",
    "\n",
    "        # get line equation using cross product\n",
    "        #   line[0] * x + line[1] * y + line[2] = 0\n",
    "        line = np.cross(p1, p2)\n",
    "        lines.append(line)\n",
    "\n",
    "        print(\n",
    "            f\"({p1[0]:.2f}, {p1[1]:.2f}) <> ({p2[0]:.2f}, {p2[1]:.2f}) -> {line[0]:.2f}*x + {line[1]:.2f}*y + {line[2]:.2f}\"\n",
    "        )\n",
    "\n",
    "        # plot line segment\n",
    "        plt.plot([p1[0], p2[0]], [p1[1], p2[1]], color=\"b\")\n",
    "\n",
    "        n += 1\n",
    "\n",
    "    plt.close(h)\n",
    "\n",
    "    return np.vstack(lines), np.vstack(points)\n"
   ]
  },
  {
   "cell_type": "code",
   "execution_count": 99,
   "metadata": {},
   "outputs": [],
   "source": [
    "def plot_lines_and_vp(im, lines, vp, border=50):\n",
    "    \"\"\"\n",
    "    Plots user-input lines and the calculated vanishing point.\n",
    "    Inputs:\n",
    "        im ((H, W, 3) array): An RGB image of height H and width W.\n",
    "        lines ((N, 3) array): The line equation.\n",
    "        vp ((2, ) array): A vanishing point\n",
    "    \"\"\"\n",
    "\n",
    "    ny, nx, _ = im.shape\n",
    "    bx1 = min(0, vp[0]) - border\n",
    "    bx2 = max(nx - 1, vp[0]) + border\n",
    "    by1 = min(0, vp[1]) - border\n",
    "    by2 = max(ny - 1, vp[1]) + border\n",
    "\n",
    "    fig, ax = plt.subplots(figsize=(8, 6))\n",
    "    ax.imshow(im)\n",
    "    for i, line in enumerate(lines):\n",
    "        if line[0] < line[1]:\n",
    "            pt1 = np.cross(np.array([1, 0, -bx1]), line)\n",
    "            pt2 = np.cross(np.array([1, 0, -bx2]), line)\n",
    "        else:\n",
    "            pt1 = np.cross(np.array([0, 1, -by1]), line)\n",
    "            pt2 = np.cross(np.array([0, 1, -by2]), line)\n",
    "        pt1 = pt1 / pt1[2]\n",
    "        pt2 = pt2 / pt2[2]\n",
    "        plt.plot([pt1[0], pt2[0]], [pt1[1], pt2[1]], \"g\")\n",
    "\n",
    "    plt.plot(*vp, \"ro\")\n",
    "    plt.show()\n"
   ]
  },
  {
   "cell_type": "code",
   "execution_count": 4,
   "metadata": {},
   "outputs": [],
   "source": [
    "def get_top_and_bottom_coordinates(im, obj):\n",
    "    \"\"\"\n",
    "    For a specific object, prompts user to record the top coordinate and the bottom coordinate in the image.\n",
    "    Inputs:\n",
    "        im: np.ndarray of shape (height, width, 3)\n",
    "        obj: string, object name\n",
    "    Returns:\n",
    "        coord: np.ndarray of shape (3, 2)\n",
    "            where coord[:, 0] is the homogeneous coordinate of the top of the object and coord[:, 1] is the homogeneous\n",
    "            coordinate of the bottom\n",
    "    \"\"\"\n",
    "    plt.figure()\n",
    "    plt.imshow(im)\n",
    "\n",
    "    print(\"Click on the top coordinate of %s\" % obj)\n",
    "    clicked = plt.ginput(1, timeout=0, show_clicks=True)\n",
    "    x1, y1 = clicked[0]\n",
    "    # Uncomment this line to enable a vertical line to help align the two coordinates\n",
    "    # plt.plot([x1, x1], [0, im.shape[0]], 'b')\n",
    "    print(\"Click on the bottom coordinate of %s\" % obj)\n",
    "    clicked = plt.ginput(1, timeout=0, show_clicks=True)\n",
    "    x2, y2 = clicked[0]\n",
    "\n",
    "    plt.plot([x1, x2], [y1, y2], \"b\")\n",
    "\n",
    "    return np.array([[x1, x2], [y1, y2], [1, 1]])\n"
   ]
  },
  {
   "cell_type": "markdown",
   "metadata": {},
   "source": [
    "# Your implementation"
   ]
  },
  {
   "cell_type": "code",
   "execution_count": 33,
   "metadata": {},
   "outputs": [],
   "source": [
    "def get_vanishing_point(lines):\n",
    "    \"\"\"\n",
    "    Solves for the vanishing point using the user-input lines.\n",
    "\n",
    "    Args:  \n",
    "        lines ((N, 3) array): For lines a*x+b*y+c=0, store parameters as (a, b, c).\n",
    "\n",
    "    Returns:\n",
    "        TBD\n",
    "    \"\"\"\n",
    "    vp = np.cross(lines[:, None, :], lines[None, :, :])\n",
    "    # only select upper triangle (without diagnol, those are selfs)\n",
    "    mask = np.triu_indices(vp.shape[0], 1)\n",
    "    vp = vp[mask]\n",
    "\n",
    "    # convert back from homogeneous coordinate\n",
    "    vp /= vp[:, -1][:, np.newaxis]\n",
    "    vp = vp[:, :2]\n",
    "\n",
    "    # return the average\n",
    "    vp = np.mean(vp, axis=0)\n",
    "\n",
    "    return vp\n"
   ]
  },
  {
   "cell_type": "code",
   "execution_count": 62,
   "metadata": {},
   "outputs": [],
   "source": [
    "def get_horizon_line(vps):\n",
    "    \"\"\"\n",
    "    Calculates the ground horizon line.\n",
    "\n",
    "    Args:\n",
    "        vps (list of (2, ) arrays): List of vanishing points.\n",
    "\n",
    "    Returns:\n",
    "        (3, ) array: Tuple of normalized line equation coefficients, a*x + b*y + c = 0. \n",
    "    \"\"\"\n",
    "    # sort by y, horizon should have similar height (in image)\n",
    "    vps.sort(key=lambda p: p[1])\n",
    "    \n",
    "    # to homogenous coordinate\n",
    "    vps = np.array(vps[:2])\n",
    "    vps = np.hstack([vps, np.ones((2, 1))])\n",
    "    \n",
    "    # find the line\n",
    "    #   a*x + b*y + c = 0\n",
    "    coef = np.cross(*vps)\n",
    "    # problem statement asked for normalized equation\n",
    "    scale = 1 / np.hypot(*coef[:2])\n",
    "    coef *= scale\n",
    "    print(f'{coef[0]:.6f}*x + {coef[1]:.6f}*y + {coef[2]:.6f} = 0')\n",
    "    \n",
    "    return coef\n",
    "    \n"
   ]
  },
  {
   "cell_type": "code",
   "execution_count": 38,
   "metadata": {},
   "outputs": [],
   "source": [
    "def plot_horizon_line():\n",
    "    \"\"\"\n",
    "    Plots the horizon line.\n",
    "    \"\"\"\n",
    "    # <YOUR IMPLEMENTATION>\n",
    "    pass\n"
   ]
  },
  {
   "cell_type": "code",
   "execution_count": 39,
   "metadata": {},
   "outputs": [],
   "source": [
    "def get_camera_parameters():\n",
    "    \"\"\"\n",
    "    Computes the camera parameters. Hint: The SymPy package is suitable for this.\n",
    "    \"\"\"\n",
    "    # <YOUR IMPLEMENTATION>\n",
    "    pass\n"
   ]
  },
  {
   "cell_type": "code",
   "execution_count": 40,
   "metadata": {},
   "outputs": [],
   "source": [
    "def get_rotation_matrix():\n",
    "    \"\"\"\n",
    "    Computes the rotation matrix using the camera parameters.\n",
    "    \"\"\"\n",
    "    # <YOUR IMPLEMENTATION>\n",
    "    return R\n"
   ]
  },
  {
   "cell_type": "code",
   "execution_count": 41,
   "metadata": {},
   "outputs": [],
   "source": [
    "def estimate_height():\n",
    "    \"\"\"\n",
    "    Estimates height for a specific object using the recorded coordinates. You might need to plot additional images here for\n",
    "    your report.\n",
    "    \"\"\"\n",
    "    # <YOUR IMPLEMENTATION>\n",
    "    pass\n"
   ]
  },
  {
   "cell_type": "markdown",
   "metadata": {},
   "source": [
    "# Main function"
   ]
  },
  {
   "cell_type": "markdown",
   "metadata": {},
   "source": [
    "### Use this function to save line info for each VP\n",
    "\n",
    "Suggest to label lines for VP from *left* to *right*, so we can build the horizon directly with $v_0$ and $v_2$."
   ]
  },
  {
   "cell_type": "code",
   "execution_count": 37,
   "metadata": {},
   "outputs": [
    {
     "ename": "RuntimeError",
     "evalue": "'vp0.npy' exists",
     "output_type": "error",
     "traceback": [
      "\u001b[0;31m---------------------------------------------------------------------------\u001b[0m",
      "\u001b[0;31mRuntimeError\u001b[0m                              Traceback (most recent call last)",
      "\u001b[0;32m/tmp/ipykernel_9008/2263808124.py\u001b[0m in \u001b[0;36m<module>\u001b[0;34m\u001b[0m\n\u001b[1;32m      8\u001b[0m         \u001b[0mvp_path\u001b[0m \u001b[0;34m=\u001b[0m \u001b[0mdata_dir\u001b[0m \u001b[0;34m/\u001b[0m \u001b[0;34mf'vp{i}.npy'\u001b[0m\u001b[0;34m\u001b[0m\u001b[0;34m\u001b[0m\u001b[0m\n\u001b[1;32m      9\u001b[0m         \u001b[0;32mif\u001b[0m \u001b[0mvp_path\u001b[0m\u001b[0;34m.\u001b[0m\u001b[0mexists\u001b[0m\u001b[0;34m(\u001b[0m\u001b[0;34m)\u001b[0m\u001b[0;34m:\u001b[0m\u001b[0;34m\u001b[0m\u001b[0;34m\u001b[0m\u001b[0m\n\u001b[0;32m---> 10\u001b[0;31m             \u001b[0;32mraise\u001b[0m \u001b[0mRuntimeError\u001b[0m\u001b[0;34m(\u001b[0m\u001b[0;34mf\"'vp{i}.npy' exists\"\u001b[0m\u001b[0;34m)\u001b[0m\u001b[0;34m\u001b[0m\u001b[0;34m\u001b[0m\u001b[0m\n\u001b[0m\u001b[1;32m     11\u001b[0m \u001b[0;34m\u001b[0m\u001b[0m\n\u001b[1;32m     12\u001b[0m \u001b[0mvp_data\u001b[0m \u001b[0;34m=\u001b[0m \u001b[0;34m[\u001b[0m\u001b[0;34m]\u001b[0m\u001b[0;34m\u001b[0m\u001b[0;34m\u001b[0m\u001b[0m\n",
      "\u001b[0;31mRuntimeError\u001b[0m: 'vp0.npy' exists"
     ]
    }
   ],
   "source": [
    "from skimage.io import imread\n",
    "\n",
    "overwrite = False\n",
    "\n",
    "# sanity check\n",
    "if not overwrite:\n",
    "    for i in range(3):\n",
    "        vp_path = data_dir / f'vp{i}.npy'\n",
    "        if vp_path.exists():\n",
    "            raise RuntimeError(f\"'vp{i}.npy' exists\")\n",
    "\n",
    "vp_data = []\n",
    "for i in range(3):\n",
    "    im = imread(data_dir / \"CSL.jpg\")\n",
    "    lines, points = get_input_lines(im)\n",
    "\n",
    "    print(f\"vp{i}, {len(lines)} lines\")\n",
    "    data = np.hstack([lines, points])\n",
    "    np.save(data_dir / f\"vp{i}.npy\", data)"
   ]
  },
  {
   "cell_type": "code",
   "execution_count": 63,
   "metadata": {},
   "outputs": [
    {
     "name": "stdout",
     "output_type": "stream",
     "text": [
      "-0.009458*x + 0.999955*y + -216.451659 = 0\n"
     ]
    },
    {
     "ename": "RuntimeError",
     "evalue": "",
     "output_type": "error",
     "traceback": [
      "\u001b[0;31m---------------------------------------------------------------------------\u001b[0m",
      "\u001b[0;31mRuntimeError\u001b[0m                              Traceback (most recent call last)",
      "\u001b[0;32m/tmp/ipykernel_9008/644275964.py\u001b[0m in \u001b[0;36m<module>\u001b[0;34m\u001b[0m\n\u001b[1;32m     24\u001b[0m \u001b[0;34m\u001b[0m\u001b[0m\n\u001b[1;32m     25\u001b[0m \u001b[0;31m# <YOUR IMPLEMENTATION> Get the ground horizon line\u001b[0m\u001b[0;34m\u001b[0m\u001b[0;34m\u001b[0m\u001b[0;34m\u001b[0m\u001b[0m\n\u001b[0;32m---> 26\u001b[0;31m \u001b[0mhorizon_line\u001b[0m \u001b[0;34m=\u001b[0m \u001b[0mget_horizon_line\u001b[0m\u001b[0;34m(\u001b[0m\u001b[0mvps\u001b[0m\u001b[0;34m)\u001b[0m\u001b[0;34m\u001b[0m\u001b[0;34m\u001b[0m\u001b[0m\n\u001b[0m\u001b[1;32m     27\u001b[0m \u001b[0;31m# <YOUR IMPLEMENTATION> Plot the ground horizon line\u001b[0m\u001b[0;34m\u001b[0m\u001b[0;34m\u001b[0m\u001b[0;34m\u001b[0m\u001b[0m\n\u001b[1;32m     28\u001b[0m \u001b[0mplot_horizon_line\u001b[0m\u001b[0;34m(\u001b[0m\u001b[0;34m)\u001b[0m\u001b[0;34m\u001b[0m\u001b[0;34m\u001b[0m\u001b[0m\n",
      "\u001b[0;32m/tmp/ipykernel_9008/3117670664.py\u001b[0m in \u001b[0;36mget_horizon_line\u001b[0;34m(vps)\u001b[0m\n\u001b[1;32m     21\u001b[0m     \u001b[0mprint\u001b[0m\u001b[0;34m(\u001b[0m\u001b[0;34mf'{coef[0]:.6f}*x + {coef[1]:.6f}*y + {coef[2]:.6f} = 0'\u001b[0m\u001b[0;34m)\u001b[0m\u001b[0;34m\u001b[0m\u001b[0;34m\u001b[0m\u001b[0m\n\u001b[1;32m     22\u001b[0m \u001b[0;34m\u001b[0m\u001b[0m\n\u001b[0;32m---> 23\u001b[0;31m     \u001b[0;32mraise\u001b[0m \u001b[0mRuntimeError\u001b[0m\u001b[0;34m\u001b[0m\u001b[0;34m\u001b[0m\u001b[0m\n\u001b[0m\u001b[1;32m     24\u001b[0m \u001b[0;34m\u001b[0m\u001b[0m\n",
      "\u001b[0;31mRuntimeError\u001b[0m: "
     ]
    }
   ],
   "source": [
    "from skimage.io import imread\n",
    "\n",
    "im = imread(data_dir / \"CSL.jpg\")\n",
    "\n",
    "plt.close(\"all\")\n",
    "\n",
    "# Part 1\n",
    "# Get vanishing points for each of the directions\n",
    "vps = []\n",
    "fig, ax = plt.subplots(figsize=(8, 6))\n",
    "ax.imshow(im)\n",
    "for i, color in enumerate((\"r\", \"g\", \"b\")):\n",
    "    data = np.load(data_dir / f\"vp{i}.npy\")\n",
    "    lines, p1, p2 = data[:, :3], data[:, 3:5], data[:, 5:]\n",
    "\n",
    "    vp = get_vanishing_point(lines)\n",
    "    vps.append(vp)\n",
    "\n",
    "    # user input, ground truth\n",
    "    for p1_, p2_ in zip(p1, p2):\n",
    "        ax.plot([p1_[0], p2_[0]], [p1_[1], p2_[1]], color, linewidth=2)\n",
    "\n",
    "    ax.scatter(*vp, c=color)\n",
    "\n",
    "# <YOUR IMPLEMENTATION> Get the ground horizon line\n",
    "horizon_line = get_horizon_line(vps)\n",
    "# <YOUR IMPLEMENTATION> Plot the ground horizon line\n",
    "plot_horizon_line()\n",
    "\n",
    "# Part 2\n",
    "# <YOUR IMPLEMENTATION> Solve for the camera parameters (f, u, v)\n",
    "f, u, v = get_camera_parameters()\n",
    "\n",
    "# Part 3\n",
    "# <YOUR IMPLEMENTATION> Solve for the rotation matrix\n",
    "R = get_rotation_matrix()\n",
    "\n",
    "# Part 4\n",
    "# Record image coordinates for each object and store in map\n",
    "objects = (\"person\", \"CSL building\", \"the spike statue\", \"the lamp posts\")\n",
    "coords = dict()\n",
    "for obj in objects:\n",
    "    coords[obj] = get_top_and_bottom_coordinates(im, obj)\n",
    "\n",
    "# <YOUR IMPLEMENTATION> Estimate heights\n",
    "for obj in objects[1:]:\n",
    "    print(\"Estimating height of %s\" % obj)\n",
    "    height = estimate_height()\n"
   ]
  },
  {
   "cell_type": "code",
   "execution_count": null,
   "metadata": {},
   "outputs": [],
   "source": []
  }
 ],
 "metadata": {
  "interpreter": {
   "hash": "1ea9ee1b797d9a4ef2e6d5c44cb7255af993d4da1b0daddb52910dfd5bda3457"
  },
  "kernelspec": {
   "display_name": "Python 3.8.12 64-bit ('ece549-mp': conda)",
   "name": "python3"
  },
  "language_info": {
   "codemirror_mode": {
    "name": "ipython",
    "version": 3
   },
   "file_extension": ".py",
   "mimetype": "text/x-python",
   "name": "python",
   "nbconvert_exporter": "python",
   "pygments_lexer": "ipython3",
   "version": "3.8.12"
  }
 },
 "nbformat": 4,
 "nbformat_minor": 2
}
