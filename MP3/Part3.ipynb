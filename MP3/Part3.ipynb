{
 "cells": [
  {
   "cell_type": "markdown",
   "metadata": {},
   "source": [
    "# Part 3: Single-View Geometry\n",
    "\n",
    "## Usage\n",
    "This code snippet provides an overall code structure and some interactive plot interfaces for the *Single-View Geometry* section of Assignment 3. In [main function](#Main-function), we outline the required functionalities step by step. Some of the functions which involves interactive plots are already provided, but [the rest](#Your-implementation) are left for you to implement.\n",
    "\n",
    "## Package installation\n",
    "- In this code, we use `tkinter` package. Installation instruction can be found [here](https://anaconda.org/anaconda/tk)."
   ]
  },
  {
   "cell_type": "markdown",
   "metadata": {},
   "source": [
    "# Common imports"
   ]
  },
  {
   "cell_type": "code",
   "execution_count": 1,
   "metadata": {},
   "outputs": [],
   "source": [
    "import numpy as np\n",
    "\n",
    "%matplotlib tk\n",
    "import matplotlib.pyplot as plt\n",
    "\n",
    "from pathlib import Path\n",
    "\n",
    "data_dir = Path('part3')"
   ]
  },
  {
   "cell_type": "markdown",
   "metadata": {},
   "source": [
    "# Provided functions"
   ]
  },
  {
   "cell_type": "code",
   "execution_count": 2,
   "metadata": {},
   "outputs": [],
   "source": [
    "def get_input_lines(im, min_lines=3):\n",
    "    \"\"\"\n",
    "    Allows user to input line segments; computes centers and directions.\n",
    "    Inputs:\n",
    "        im: np.ndarray of shape (height, width, 3)\n",
    "        min_lines: minimum number of lines required\n",
    "    Returns:\n",
    "        n: number of lines from input\n",
    "        lines: np.ndarray of shape (3, n)\n",
    "            where each column denotes the parameters of the line equation\n",
    "        centers: np.ndarray of shape (3, n)\n",
    "            where each column denotes the homogeneous coordinates of the centers\n",
    "    \"\"\"\n",
    "    n = 0\n",
    "    lines = []\n",
    "    points = []\n",
    "\n",
    "    h = plt.figure()\n",
    "    plt.imshow(im)\n",
    "    plt.show()\n",
    "\n",
    "    print(\"Set at least %d lines to compute vanishing point\" % min_lines)\n",
    "    print(\"Click two endpoints, right key to undo, middle key to stop\")\n",
    "    while True:\n",
    "        clicked = plt.ginput(2, timeout=0, show_clicks=True)\n",
    "        if not clicked or len(clicked) < 2:\n",
    "            if n < min_lines:\n",
    "                print(\"Need at least %d lines, you have %d now\" % (min_lines, n))\n",
    "                continue\n",
    "            else:\n",
    "                # stop getting lines if number of lines is enough\n",
    "                break\n",
    "\n",
    "        # unpack user inputs and save endpoints as a tuple\n",
    "        p1 = np.array([clicked[0][0], clicked[0][1], 1])\n",
    "        p2 = np.array([clicked[1][0], clicked[1][1], 1])\n",
    "        points.append(np.hstack([p1[:-1], p2[:-1]]))\n",
    "\n",
    "        # get line equation using cross product\n",
    "        #   line[0] * x + line[1] * y + line[2] = 0\n",
    "        line = np.cross(p1, p2)\n",
    "        lines.append(line)\n",
    "\n",
    "        print(\n",
    "            f\"({p1[0]:.2f}, {p1[1]:.2f}) <> ({p2[0]:.2f}, {p2[1]:.2f}) -> {line[0]:.2f}*x + {line[1]:.2f}*y + {line[2]:.2f}\"\n",
    "        )\n",
    "\n",
    "        # plot line segment\n",
    "        plt.plot([p1[0], p2[0]], [p1[1], p2[1]], color=\"b\")\n",
    "\n",
    "        n += 1\n",
    "\n",
    "    plt.close(h)\n",
    "\n",
    "    return np.vstack(lines), np.vstack(points)\n"
   ]
  },
  {
   "cell_type": "code",
   "execution_count": 3,
   "metadata": {},
   "outputs": [],
   "source": [
    "def plot_lines_and_vp(im, lines, vp, border=50):\n",
    "    \"\"\"\n",
    "    Plots user-input lines and the calculated vanishing point.\n",
    "    Inputs:\n",
    "        im ((H, W, 3) array): An RGB image of height H and width W.\n",
    "        lines ((N, 3) array): The line equation.\n",
    "        vp ((2, ) array): A vanishing point\n",
    "    \"\"\"\n",
    "\n",
    "    ny, nx, _ = im.shape\n",
    "    bx1 = min(0, vp[0]) - border\n",
    "    bx2 = max(nx - 1, vp[0]) + border\n",
    "    by1 = min(0, vp[1]) - border\n",
    "    by2 = max(ny - 1, vp[1]) + border\n",
    "\n",
    "    fig, ax = plt.subplots(figsize=(8, 6))\n",
    "    ax.imshow(im)\n",
    "    for i, line in enumerate(lines):\n",
    "        if line[0] < line[1]:\n",
    "            pt1 = np.cross(np.array([1, 0, -bx1]), line)\n",
    "            pt2 = np.cross(np.array([1, 0, -bx2]), line)\n",
    "        else:\n",
    "            pt1 = np.cross(np.array([0, 1, -by1]), line)\n",
    "            pt2 = np.cross(np.array([0, 1, -by2]), line)\n",
    "        pt1 = pt1 / pt1[2]\n",
    "        pt2 = pt2 / pt2[2]\n",
    "        plt.plot([pt1[0], pt2[0]], [pt1[1], pt2[1]], \"g\")\n",
    "\n",
    "    plt.plot(*vp, \"ro\")\n",
    "    plt.show()\n"
   ]
  },
  {
   "cell_type": "code",
   "execution_count": 4,
   "metadata": {},
   "outputs": [],
   "source": [
    "def get_top_and_bottom_coordinates(im, obj):\n",
    "    \"\"\"\n",
    "    For a specific object, prompts user to record the top coordinate and the bottom coordinate in the image.\n",
    "    Inputs:\n",
    "        im: np.ndarray of shape (height, width, 3)\n",
    "        obj: string, object name\n",
    "    Returns:\n",
    "        coord: np.ndarray of shape (3, 2)\n",
    "            where coord[:, 0] is the homogeneous coordinate of the top of the object and coord[:, 1] is the homogeneous\n",
    "            coordinate of the bottom\n",
    "    \"\"\"\n",
    "    plt.figure()\n",
    "    plt.imshow(im)\n",
    "\n",
    "    print(\"Click on the top coordinate of %s\" % obj)\n",
    "    clicked = plt.ginput(1, timeout=0, show_clicks=True)\n",
    "    x1, y1 = clicked[0]\n",
    "    # Uncomment this line to enable a vertical line to help align the two coordinates\n",
    "    # plt.plot([x1, x1], [0, im.shape[0]], 'b')\n",
    "    print(\"Click on the bottom coordinate of %s\" % obj)\n",
    "    clicked = plt.ginput(1, timeout=0, show_clicks=True)\n",
    "    x2, y2 = clicked[0]\n",
    "\n",
    "    plt.plot([x1, x2], [y1, y2], \"b\")\n",
    "\n",
    "    return np.array([[x1, x2], [y1, y2], [1, 1]])\n"
   ]
  },
  {
   "cell_type": "markdown",
   "metadata": {},
   "source": [
    "# Your implementation"
   ]
  },
  {
   "cell_type": "code",
   "execution_count": 5,
   "metadata": {},
   "outputs": [],
   "source": [
    "def get_vanishing_point(lines):\n",
    "    \"\"\"\n",
    "    Solves for the vanishing point using the user-input lines.\n",
    "\n",
    "    Args:  \n",
    "        lines ((N, 3) array): For lines a*x+b*y+c=0, store parameters as (a, b, c).\n",
    "\n",
    "    Returns:\n",
    "        TBD\n",
    "    \"\"\"\n",
    "    vp = np.cross(lines[:, None, :], lines[None, :, :])\n",
    "    # only select upper triangle (without diagnol, those are selfs)\n",
    "    mask = np.triu_indices(vp.shape[0], 1)\n",
    "    vp = vp[mask]\n",
    "\n",
    "    # convert back from homogeneous coordinate\n",
    "    vp /= vp[:, -1][:, np.newaxis]\n",
    "    vp = vp[:, :2]\n",
    "\n",
    "    # return the average\n",
    "    vp = np.mean(vp, axis=0)\n",
    "\n",
    "    return vp\n"
   ]
  },
  {
   "cell_type": "code",
   "execution_count": 6,
   "metadata": {},
   "outputs": [],
   "source": [
    "def get_horizon_line(vps):\n",
    "    \"\"\"\n",
    "    Calculates the ground horizon line.\n",
    "\n",
    "    Args:\n",
    "        vps (list of (2, ) arrays): List of vanishing points.\n",
    "\n",
    "    Returns:\n",
    "        (3, ) array: Tuple of normalized line equation coefficients, a*x + b*y + c = 0. \n",
    "    \"\"\"\n",
    "    # sort by y, horizon should have similar height (in image)\n",
    "    vps.sort(key=lambda p: p[1])\n",
    "    \n",
    "    # to homogenous coordinate\n",
    "    vps = np.array(vps[:2])\n",
    "    vps = np.hstack([vps, np.ones((2, 1))])\n",
    "    \n",
    "    # find the line\n",
    "    #   a*x + b*y + c = 0\n",
    "    coef = np.cross(*vps)\n",
    "    # problem statement asked for normalized equation\n",
    "    scale = 1 / np.hypot(*coef[:2])\n",
    "    coef *= scale\n",
    "    print(f'{coef[0]:.6f}*x + {coef[1]:.6f}*y + {coef[2]:.6f} = 0')\n",
    "    \n",
    "    return coef\n",
    "    \n"
   ]
  },
  {
   "cell_type": "code",
   "execution_count": 18,
   "metadata": {},
   "outputs": [],
   "source": [
    "def plot_horizon_line(ax, im, line, boundary=20):\n",
    "    \"\"\"\n",
    "    Plots the horizon line.\n",
    "\n",
    "    Args:\n",
    "        ax : The axes to plot the line on.\n",
    "        im ((H, W, 3) array): An RGB image as shape reference.\n",
    "        line ((3, ) array): Line equation coefficients.\n",
    "        boundary (float, optional): Boundary of the horizon line.\n",
    "    \"\"\"\n",
    "    _, nx, _ = im.shape\n",
    "    p1x = -boundary\n",
    "    p2x = nx + boundary\n",
    "\n",
    "    # find line boundary\n",
    "    #   ax + by + c = 0\n",
    "    p1 = np.cross([1, 0, -p1x], line)\n",
    "    p2 = np.cross([1, 0, -p2x], line)\n",
    "    \n",
    "    ax.plot([p1[0], p2[0]], [p1[1], p2[1]], 'w:')\n",
    "    "
   ]
  },
  {
   "cell_type": "code",
   "execution_count": 8,
   "metadata": {},
   "outputs": [],
   "source": [
    "def get_camera_parameters(vps):\n",
    "    \"\"\"\n",
    "    Computes the camera parameters. Hint: The SymPy package is suitable for this.\n",
    "\n",
    "    Args:\n",
    "        vps (list of (2, ) arrays): List of vanishing points.\n",
    "    \n",
    "    Returns:\n",
    "        TBD\n",
    "    \"\"\"\n",
    "    x1, y1 = vps[0]\n",
    "    x2, y2 = vps[1]\n",
    "    x3, y3 = vps[2]\n",
    "\n",
    "    # homogenous coordinate\n",
    "    vps_h = np.hstack([vps, np.ones((3, 1))])\n",
    "\n",
    "    # solve principal center\n",
    "    x23, y23 = x2 - x3, y2 - y3\n",
    "    x12, y12 = x1 - x2, y1 - y2\n",
    "\n",
    "    A = np.array([[x23, y23], [x12, y12]])\n",
    "    b = np.array([[x1 * x23 + y1 * y23], [x3 * x12 + y3 * y12]])\n",
    "    x, residuals, _, _ = np.linalg.lstsq(A, b, rcond=None)\n",
    "    u, v = np.squeeze(x)\n",
    "    print(f\"(u, v) = ({u}, {v})\")\n",
    "\n",
    "    # compute focal length\n",
    "    f = np.abs(np.sqrt(-(x1 - u) * (x2 - u) - (y1 - v) * (y2 - v)))\n",
    "    print(f\"f={f}\")\n",
    "\n",
    "    # fill out the calibration matrix\n",
    "    K = np.array([[f, 0, u], [0, f, v], [0, 0, 1]])\n",
    "\n",
    "    return K\n",
    "\n",
    "\n",
    "def get_camera_parameters_hz(vps):\n",
    "    \"\"\"\n",
    "    TBD\n",
    "\n",
    "    Use implementation from Hartley and Zisserman, algorithm 8.2\n",
    "\n",
    "    Args:\n",
    "        TBD \n",
    "    \"\"\"\n",
    "    A = []\n",
    "    for i, p1 in enumerate(vps):\n",
    "        for j, p2 in enumerate(vps):\n",
    "            if i >= j:\n",
    "                continue\n",
    "            (u1, u2), u3 = p1, 1\n",
    "            (v1, v2), v3 = p2, 1\n",
    "\n",
    "            # solving\n",
    "            #   w = [ w11, w12, w13; w21, w22, w23; w31, w32, w33 ]\n",
    "            #     = [  w1,  w2,  w4;  w2,  w3,  w5;  w4,  w5,  w6 ]\n",
    "            # we have\n",
    "            #   A = [ v1*u1, v1*u2+v2*u1, v2*u2, v1*u3+v3*u1, v2*u3+v3*u2, v3*v3 ]\n",
    "            #\n",
    "            # constraints\n",
    "            #   - zero skew, w12 = w21 = 0\n",
    "            #   - square pixel, w11 = w22\n",
    "            # we can simplify to\n",
    "            #   A = [ v1*u1+v2*u2, v1*u3+v3*u1, v2*u3+v3*u2, v3*v3 ]\n",
    "            # which has\n",
    "            #   w = [  w1,   0,  w2;   0,  w1,  w3;  w2,  w3,  w4 ]\n",
    "            a = [v1 * u1 + v2 * u2, v1 * u3 + v3 * u1, v2 * u3 + v3 * u2, v3 * v3]\n",
    "            A.append(a)\n",
    "    A = np.array(A)\n",
    "\n",
    "    _, _, vh = np.linalg.svd(A, full_matrices=True)\n",
    "\n",
    "    w1, w2, w3, w4 = vh[-1, :]\n",
    "    w = np.array([[w1, 0, w2], [0, w1, w3], [w2, w3, w4]])\n",
    "\n",
    "    # w = inv(K K.T)\n",
    "    KT_inv = np.linalg.cholesky(w)\n",
    "    K = np.linalg.inv(KT_inv.T)\n",
    "    K /= K[-1, -1]\n",
    "\n",
    "    print(f\"(u, v) = ({K[0, -1]}, {K[1, -1]})\")\n",
    "    print(f\"f={K[0, 0]}\")\n",
    "\n",
    "    return K\n"
   ]
  },
  {
   "cell_type": "code",
   "execution_count": 9,
   "metadata": {},
   "outputs": [
    {
     "name": "stdout",
     "output_type": "stream",
     "text": [
      "VPs=\n",
      "[[1343.24  229.16]\n",
      " [ 493.84 6330.22]\n",
      " [-237.51  214.21]]\n",
      "(u, v) = (550.6446259066291, 323.9382339864041)\n",
      "f=783.7651831564144\n",
      "R=\n",
      "[[ 0.70850006 -0.00937762 -0.70564845]\n",
      " [-0.08472215  0.99154967 -0.09824158]\n",
      " [ 0.70060676  0.12938822  0.7017185 ]]\n"
     ]
    }
   ],
   "source": [
    "def get_rotation_matrix(vps, K):\n",
    "    \"\"\"\n",
    "    Computes the rotation matrix using the camera parameters.\n",
    "\n",
    "    Args:\n",
    "        vps ():\n",
    "        K ():\n",
    "\n",
    "    Returns:\n",
    "        ((3, 3) array): Normalized rotation matrix.\n",
    "    \"\"\"\n",
    "    vps_h = np.hstack([vps, np.ones((3, 1))])\n",
    "    \n",
    "    # solve rotation matrix\n",
    "    K_inv = np.linalg.inv(K)\n",
    "    R = K_inv @ vps_h.T\n",
    "\n",
    "    # normalize the matrix\n",
    "    u, _, vh = np.linalg.svd(R)\n",
    "    R = u @ vh\n",
    "\n",
    "    return R\n",
    "\n",
    "\n",
    "vps1 = np.array([[1343.24, 229.16], [493.84, 6330.22], [-237.51, 214.21],])\n",
    "vps2 = np.array([[1299.76, 230.50], [515.99, 6820.60], [-923.18, 182.04]])\n",
    "\n",
    "print(\"VPs=\")\n",
    "print(np.array(vps1))\n",
    "\n",
    "K = get_camera_parameters(vps1)\n",
    "R = get_rotation_matrix(vps1, K)\n",
    "print(\"R=\")\n",
    "print(R)\n"
   ]
  },
  {
   "cell_type": "code",
   "execution_count": 46,
   "metadata": {},
   "outputs": [],
   "source": [
    "from numpy.linalg import norm\n",
    "\n",
    "\n",
    "def estimate_height(vps, coord_ref, h_ref, coord_obj):\n",
    "    \"\"\"\n",
    "    Estimates height for a specific object using the recorded coordinates. You might need to plot additional images here for\n",
    "    your report.\n",
    "    \n",
    "    Args:\n",
    "\n",
    "    \"\"\"\n",
    "    # expand vps, v_z should be inf\n",
    "    v_x, v_y, v_z = np.hstack([vps, np.ones((3, 1))])\n",
    "\n",
    "    if (coord_ref == coord_obj).all():\n",
    "        return h_ref\n",
    "\n",
    "    # extract coordinates for target/reference objects\n",
    "    t0, b0 = coord_obj\n",
    "    r, b = coord_ref\n",
    "\n",
    "    # calculate v\n",
    "    #   v = (b x b0) x (v_x x v_y)\n",
    "    v = np.cross(np.cross(b, b0), np.cross(v_x, v_y))\n",
    "    # calculate t\n",
    "    #   t = (v x t0) x (r x b)\n",
    "    t = np.cross(np.cross(v, t0), np.cross(r, b))\n",
    "    t /= t[-1]\n",
    "\n",
    "    # calculate cross ratio\n",
    "    #   |t-b|/|r-b| * |v_z-r|/|v_z-t| = H/R\n",
    "    ratio = norm(t - b) / norm(r - b) * norm(v_z - r) / norm(v_z - t)\n",
    "    H = h_ref * ratio\n",
    "\n",
    "    return H\n"
   ]
  },
  {
   "cell_type": "markdown",
   "metadata": {},
   "source": [
    "# Main function"
   ]
  },
  {
   "cell_type": "markdown",
   "metadata": {},
   "source": [
    "### Use this function to save line info for each VP\n",
    "\n",
    "Suggest to label lines for VP from *left* to *right*, so we can build the horizon directly with $v_0$ and $v_2$."
   ]
  },
  {
   "cell_type": "code",
   "execution_count": 11,
   "metadata": {},
   "outputs": [
    {
     "ename": "RuntimeError",
     "evalue": "'vp0.npy' exists",
     "output_type": "error",
     "traceback": [
      "\u001b[0;31m---------------------------------------------------------------------------\u001b[0m",
      "\u001b[0;31mRuntimeError\u001b[0m                              Traceback (most recent call last)",
      "\u001b[0;32m/tmp/ipykernel_1565/2263808124.py\u001b[0m in \u001b[0;36m<module>\u001b[0;34m\u001b[0m\n\u001b[1;32m      8\u001b[0m         \u001b[0mvp_path\u001b[0m \u001b[0;34m=\u001b[0m \u001b[0mdata_dir\u001b[0m \u001b[0;34m/\u001b[0m \u001b[0;34mf'vp{i}.npy'\u001b[0m\u001b[0;34m\u001b[0m\u001b[0;34m\u001b[0m\u001b[0m\n\u001b[1;32m      9\u001b[0m         \u001b[0;32mif\u001b[0m \u001b[0mvp_path\u001b[0m\u001b[0;34m.\u001b[0m\u001b[0mexists\u001b[0m\u001b[0;34m(\u001b[0m\u001b[0;34m)\u001b[0m\u001b[0;34m:\u001b[0m\u001b[0;34m\u001b[0m\u001b[0;34m\u001b[0m\u001b[0m\n\u001b[0;32m---> 10\u001b[0;31m             \u001b[0;32mraise\u001b[0m \u001b[0mRuntimeError\u001b[0m\u001b[0;34m(\u001b[0m\u001b[0;34mf\"'vp{i}.npy' exists\"\u001b[0m\u001b[0;34m)\u001b[0m\u001b[0;34m\u001b[0m\u001b[0;34m\u001b[0m\u001b[0m\n\u001b[0m\u001b[1;32m     11\u001b[0m \u001b[0;34m\u001b[0m\u001b[0m\n\u001b[1;32m     12\u001b[0m \u001b[0mvp_data\u001b[0m \u001b[0;34m=\u001b[0m \u001b[0;34m[\u001b[0m\u001b[0;34m]\u001b[0m\u001b[0;34m\u001b[0m\u001b[0;34m\u001b[0m\u001b[0m\n",
      "\u001b[0;31mRuntimeError\u001b[0m: 'vp0.npy' exists"
     ]
    }
   ],
   "source": [
    "from skimage.io import imread\n",
    "\n",
    "overwrite = False\n",
    "\n",
    "# sanity check\n",
    "if not overwrite:\n",
    "    for i in range(3):\n",
    "        vp_path = data_dir / f'vp{i}.npy'\n",
    "        if vp_path.exists():\n",
    "            raise RuntimeError(f\"'vp{i}.npy' exists\")\n",
    "\n",
    "vp_data = []\n",
    "for i in range(3):\n",
    "    im = imread(data_dir / \"CSL.jpg\")\n",
    "    lines, points = get_input_lines(im)\n",
    "\n",
    "    print(f\"vp{i}, {len(lines)} lines\")\n",
    "    data = np.hstack([lines, points])\n",
    "    np.save(data_dir / f\"vp{i}.npy\", data)"
   ]
  },
  {
   "cell_type": "markdown",
   "metadata": {},
   "source": [
    "### Use this function to extract line info for each objects"
   ]
  },
  {
   "cell_type": "code",
   "execution_count": null,
   "metadata": {},
   "outputs": [
    {
     "ename": "RuntimeError",
     "evalue": "'height.npy' exists",
     "output_type": "error",
     "traceback": [
      "\u001b[0;31m---------------------------------------------------------------------------\u001b[0m",
      "\u001b[0;31mRuntimeError\u001b[0m                              Traceback (most recent call last)",
      "\u001b[0;32m/tmp/ipykernel_9008/1309163658.py\u001b[0m in \u001b[0;36m<module>\u001b[0;34m\u001b[0m\n\u001b[1;32m      5\u001b[0m     \u001b[0mheight_path\u001b[0m \u001b[0;34m=\u001b[0m \u001b[0mdata_dir\u001b[0m \u001b[0;34m/\u001b[0m \u001b[0;34mf'height.npy'\u001b[0m\u001b[0;34m\u001b[0m\u001b[0;34m\u001b[0m\u001b[0m\n\u001b[1;32m      6\u001b[0m     \u001b[0;32mif\u001b[0m \u001b[0mheight_path\u001b[0m\u001b[0;34m.\u001b[0m\u001b[0mexists\u001b[0m\u001b[0;34m(\u001b[0m\u001b[0;34m)\u001b[0m\u001b[0;34m:\u001b[0m\u001b[0;34m\u001b[0m\u001b[0;34m\u001b[0m\u001b[0m\n\u001b[0;32m----> 7\u001b[0;31m         \u001b[0;32mraise\u001b[0m \u001b[0mRuntimeError\u001b[0m\u001b[0;34m(\u001b[0m\u001b[0;34mf\"'height.npy' exists\"\u001b[0m\u001b[0;34m)\u001b[0m\u001b[0;34m\u001b[0m\u001b[0;34m\u001b[0m\u001b[0m\n\u001b[0m\u001b[1;32m      8\u001b[0m \u001b[0;34m\u001b[0m\u001b[0m\n\u001b[1;32m      9\u001b[0m \u001b[0mkeys\u001b[0m \u001b[0;34m=\u001b[0m \u001b[0;34m(\u001b[0m\u001b[0;34m\"person\"\u001b[0m\u001b[0;34m,\u001b[0m \u001b[0;34m\"CSL building\"\u001b[0m\u001b[0;34m,\u001b[0m \u001b[0;34m\"the spike statue\"\u001b[0m\u001b[0;34m,\u001b[0m \u001b[0;34m\"the lamp posts\"\u001b[0m\u001b[0;34m)\u001b[0m\u001b[0;34m\u001b[0m\u001b[0;34m\u001b[0m\u001b[0m\n",
      "\u001b[0;31mRuntimeError\u001b[0m: 'height.npy' exists"
     ]
    }
   ],
   "source": [
    "overwrite = False\n",
    "\n",
    "# sanity check\n",
    "if not overwrite:\n",
    "    height_path = data_dir / f'height.npy'\n",
    "    if height_path.exists():\n",
    "        raise RuntimeError(f\"'height.npy' exists\")\n",
    "\n",
    "keys = (\"person\", \"CSL building\", \"the spike statue\", \"the lamp posts\")\n",
    "coords = []\n",
    "for key in keys:\n",
    "    coords.append(get_top_and_bottom_coordinates(im, key))\n",
    "\n",
    "coords = dict(zip(keys, coords))\n",
    "np.save(data_dir / f\"height.npy\", coords)"
   ]
  },
  {
   "cell_type": "markdown",
   "metadata": {},
   "source": [
    "## Part 1\n",
    "Get vanishing points for each of the directions."
   ]
  },
  {
   "cell_type": "code",
   "execution_count": 40,
   "metadata": {},
   "outputs": [
    {
     "name": "stdout",
     "output_type": "stream",
     "text": [
      "[array([-237.51901457,  214.21484887]), array([ 493.84651784, 6330.22134133]), array([1343.24186665,  229.16592685])]\n",
      "-0.009458*x + 0.999955*y + -216.451659 = 0\n"
     ]
    }
   ],
   "source": [
    "from skimage.io import imread\n",
    "\n",
    "im = imread(data_dir / \"CSL.jpg\")\n",
    "\n",
    "vps = []\n",
    "for i, color in enumerate((\"r\", \"g\", \"b\")):\n",
    "    data = np.load(data_dir / f\"vp{i}.npy\")\n",
    "    lines, p1, p2 = data[:, :3], data[:, 3:5], data[:, 5:]\n",
    "\n",
    "    vp = get_vanishing_point(lines)\n",
    "    vps.append(vp)\n",
    "print(vps)\n",
    "\n",
    "horizon_line = get_horizon_line(vps)"
   ]
  },
  {
   "cell_type": "markdown",
   "metadata": {},
   "source": [
    "Without VPs"
   ]
  },
  {
   "cell_type": "code",
   "execution_count": 25,
   "metadata": {},
   "outputs": [],
   "source": [
    "fig, ax = plt.subplots(figsize=(8, 6))\n",
    "ax.imshow(im)\n",
    "for i, color in enumerate((\"r\", \"g\", \"b\")):\n",
    "    data = np.load(data_dir / f\"vp{i}.npy\")\n",
    "    lines, p1, p2 = data[:, :3], data[:, 3:5], data[:, 5:]\n",
    "\n",
    "    # user input, ground truth\n",
    "    for p1_, p2_ in zip(p1, p2):\n",
    "        ax.plot([p1_[0], p2_[0]], [p1_[1], p2_[1]], color, linewidth=2)\n",
    "\n",
    "plot_horizon_line(ax, im, horizon_line, boundary=-5)\n",
    "fig.savefig(\"csl_horizon.png\", bbox_inches=\"tight\", pad_inches=0)"
   ]
  },
  {
   "cell_type": "markdown",
   "metadata": {},
   "source": [
    "VPs and horizon"
   ]
  },
  {
   "cell_type": "code",
   "execution_count": 51,
   "metadata": {},
   "outputs": [],
   "source": [
    "fig, ax = plt.subplots(figsize=(5, 15))\n",
    "ax.imshow(im)\n",
    "for i, (vp, color) in enumerate(zip(vps, (\"r\", \"g\", \"b\"))):\n",
    "    data = np.load(data_dir / f\"vp{i}.npy\")\n",
    "    lines, p1, p2 = data[:, :3], data[:, 3:5], data[:, 5:]\n",
    "\n",
    "    # user input, ground truth\n",
    "    for p1_, p2_ in zip(p1, p2):\n",
    "        ax.plot([p1_[0], p2_[0]], [p1_[1], p2_[1]], color, linewidth=2)\n",
    "\n",
    "    ax.scatter(*vp, c=color)\n",
    "\n",
    "plot_horizon_line(ax, im, horizon_line, boundary=-5)\n",
    "fig.savefig(\"csl_vp3+horizon.png\", bbox_inches=\"tight\", pad_inches=0)"
   ]
  },
  {
   "cell_type": "code",
   "execution_count": 52,
   "metadata": {},
   "outputs": [],
   "source": [
    "# this ignore vertical VP\n",
    "\n",
    "fig, ax = plt.subplots(figsize=(8, 8))\n",
    "ax.imshow(im)\n",
    "for i, (vp, color) in enumerate(zip(vps, (\"r\", \"g\", \"b\"))):\n",
    "    data = np.load(data_dir / f\"vp{i}.npy\")\n",
    "    lines, p1, p2 = data[:, :3], data[:, 3:5], data[:, 5:]\n",
    "\n",
    "    # user input, ground truth\n",
    "    for p1_, p2_ in zip(p1, p2):\n",
    "        ax.plot([p1_[0], p2_[0]], [p1_[1], p2_[1]], color, linewidth=2)\n",
    "\n",
    "    if vp[1] > 1000:\n",
    "        continue\n",
    "    ax.scatter(*vp, c=color)\n",
    "\n",
    "plot_horizon_line(ax, im, horizon_line, boundary=-5)\n",
    "\n",
    "ax.axis(\"off\")\n",
    "fig.savefig(\"csl_vp2+horizon.png\", bbox_inches=\"tight\", pad_inches=0)"
   ]
  },
  {
   "cell_type": "markdown",
   "metadata": {},
   "source": [
    "## Part 2 and 3\n",
    "Solve camera parameters and its rotation matrix."
   ]
  },
  {
   "cell_type": "code",
   "execution_count": 39,
   "metadata": {},
   "outputs": [
    {
     "name": "stdout",
     "output_type": "stream",
     "text": [
      "(u, v) = (550.6547951018749, 323.9452352558771)\n",
      "f=783.7705031103384\n",
      "K=\n",
      "[[783.77050311   0.         550.6547951 ]\n",
      " [  0.         783.77050311 323.94523526]\n",
      " [  0.           0.           1.        ]]\n",
      "(before) vps=\n",
      "[array([1343.24186665,  229.16592685]), array([ 493.84651784, 6330.22134133]), array([-237.51901457,  214.21484887])]\n",
      "(after) vps=\n",
      "[array([ 493.84651784, 6330.22134133]), array([-237.51901457,  214.21484887]), array([1343.24186665,  229.16592685])]\n",
      "R=\n",
      "[[-0.009 -0.706  0.708]\n",
      " [ 0.992 -0.098 -0.085]\n",
      " [ 0.129  0.702  0.701]]\n"
     ]
    }
   ],
   "source": [
    "# this requires VPs created from previous part\n",
    "K = get_camera_parameters(vps)\n",
    "print('K=')\n",
    "print(K)\n",
    "\n",
    "# reorder VPs to follow problem statement\n",
    "#   X: right; Y: vertical; Z: left\n",
    "print('(before) vps=')\n",
    "print(vps)\n",
    "print('(after) vps=')\n",
    "vps = [vps[1], vps[2], vps[0]]\n",
    "print(vps)\n",
    "R = get_rotation_matrix(vps, K)\n",
    "print('R=')\n",
    "with np.printoptions(precision=3):\n",
    "    print(R)"
   ]
  },
  {
   "cell_type": "markdown",
   "metadata": {},
   "source": [
    "## Part 4\n",
    "Record image coordinates for each object and store in map. "
   ]
  },
  {
   "cell_type": "code",
   "execution_count": 48,
   "metadata": {},
   "outputs": [
    {
     "name": "stdout",
     "output_type": "stream",
     "text": [
      "v_x=[-237.51901457  214.21484887]\n",
      "v_y=[1343.24186665  229.16592685]\n",
      "v_z=[ 493.84651784 6330.22134133]\n",
      "estimate height of person = 1.8288 m\n",
      "estimate height of CSL building = 24.09905168816902 m\n",
      "estimate height of the spike statue = 10.038959886281011 m\n",
      "estimate height of the lamp posts = 5.959964529084401 m\n"
     ]
    }
   ],
   "source": [
    "# load coordinates from previous session\n",
    "coords = np.load(data_dir / f\"height.npy\", allow_pickle=True)\n",
    "coords = coords[()]\n",
    "\n",
    "obj_ref = \"person\"\n",
    "#h_ref = 1.6764  # 5'6 in cm\n",
    "h_ref = 1.8288 # 6 ft in cm\n",
    "\n",
    "# sanity check for VPs, v_z should be inf\n",
    "for ax, vp in zip(('x', 'y', 'z'), vps):\n",
    "    print(f'v_{ax}={vp}')\n",
    "# estimate height for each object\n",
    "for key, coord in coords.items():\n",
    "    height = estimate_height(vps, coords[obj_ref].T, h_ref, coord.T)\n",
    "    print(f\"estimate height of {key} = {height} m\")"
   ]
  },
  {
   "cell_type": "code",
   "execution_count": 43,
   "metadata": {},
   "outputs": [
    {
     "name": "stdout",
     "output_type": "stream",
     "text": [
      "-0.009458*x + 0.999955*y + -216.451659 = 0\n",
      "(u, v) = (550.6547951018748, 323.9452352558772)\n",
      "f=783.7705031103379\n",
      "[-237.51901457  214.21484887    1.        ]\n",
      "[1.34324187e+03 2.29165927e+02 1.00000000e+00]\n",
      "[4.93846518e+02 6.33022134e+03 1.00000000e+00]\n",
      "estimate height of person = 167.64 cm\n",
      "[-237.51901457  214.21484887    1.        ]\n",
      "[1.34324187e+03 2.29165927e+02 1.00000000e+00]\n",
      "[4.93846518e+02 6.33022134e+03 1.00000000e+00]\n",
      "estimate height of CSL building = 2209.07973808216 cm\n",
      "[-237.51901457  214.21484887    1.        ]\n",
      "[1.34324187e+03 2.29165927e+02 1.00000000e+00]\n",
      "[4.93846518e+02 6.33022134e+03 1.00000000e+00]\n",
      "estimate height of the spike statue = 920.2379895757593 cm\n",
      "[-237.51901457  214.21484887    1.        ]\n",
      "[1.34324187e+03 2.29165927e+02 1.00000000e+00]\n",
      "[4.93846518e+02 6.33022134e+03 1.00000000e+00]\n",
      "estimate height of the lamp posts = 546.3300818327368 cm\n"
     ]
    }
   ],
   "source": [
    "from skimage.io import imread\n",
    "\n",
    "im = imread(data_dir / \"CSL.jpg\")\n",
    "\n",
    "plt.close(\"all\")\n",
    "\n",
    "# Part 1\n",
    "# Get vanishing points for each of the directions\n",
    "vps = []\n",
    "fig, ax = plt.subplots(figsize=(8, 6))\n",
    "ax.imshow(im)\n",
    "show_vp = False\n",
    "for i, color in enumerate((\"r\", \"g\", \"b\")):\n",
    "    data = np.load(data_dir / f\"vp{i}.npy\")\n",
    "    lines, p1, p2 = data[:, :3], data[:, 3:5], data[:, 5:]\n",
    "\n",
    "    vp = get_vanishing_point(lines)\n",
    "    vps.append(vp)\n",
    "\n",
    "    # user input, ground truth\n",
    "    for p1_, p2_ in zip(p1, p2):\n",
    "        ax.plot([p1_[0], p2_[0]], [p1_[1], p2_[1]], color, linewidth=2)\n",
    "\n",
    "    if show_vp:\n",
    "        ax.scatter(*vp, c=color)\n",
    "\n",
    "horizon_line = get_horizon_line(vps)\n",
    "plot_horizon_line(ax, im, horizon_line, boundary=-5)\n",
    "fig.savefig(\"csl_horizon.png\", bbox_inches=\"tight\", pad_inches=0)\n",
    "\n",
    "# Part 2\n",
    "# <YOUR IMPLEMENTATION> Solve for the camera parameters\n",
    "K = get_camera_parameters(vps)\n",
    "\n",
    "# Part 3\n",
    "# <YOUR IMPLEMENTATION> Solve for the rotation matrix\n",
    "R = get_rotation_matrix(vps, K)\n",
    "\n",
    "# Part 4\n",
    "# Record image coordinates for each object and store in map\n",
    "coords = np.load(data_dir / f\"height.npy\", allow_pickle=True)\n",
    "coords = coords[()]\n",
    "\n",
    "obj_ref = \"person\"\n",
    "h_ref = 167.64  # 5'6 in cm\n",
    "\n",
    "# <YOUR IMPLEMENTATION> Estimate heights\n",
    "for key, coord in coords.items():\n",
    "    height = estimate_height(vps, coords[obj_ref].T, h_ref, coord.T)\n",
    "    print(f\"estimate height of {key} = {height} cm\")\n"
   ]
  }
 ],
 "metadata": {
  "interpreter": {
   "hash": "1ea9ee1b797d9a4ef2e6d5c44cb7255af993d4da1b0daddb52910dfd5bda3457"
  },
  "kernelspec": {
   "display_name": "Python 3.8.12 64-bit ('ece549-mp': conda)",
   "name": "python3"
  },
  "language_info": {
   "codemirror_mode": {
    "name": "ipython",
    "version": 3
   },
   "file_extension": ".py",
   "mimetype": "text/x-python",
   "name": "python",
   "nbconvert_exporter": "python",
   "pygments_lexer": "ipython3",
   "version": "3.8.12"
  }
 },
 "nbformat": 4,
 "nbformat_minor": 2
}
